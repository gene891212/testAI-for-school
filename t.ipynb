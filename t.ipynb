{
 "metadata": {
  "language_info": {
   "codemirror_mode": {
    "name": "ipython",
    "version": 3
   },
   "file_extension": ".py",
   "mimetype": "text/x-python",
   "name": "python",
   "nbconvert_exporter": "python",
   "pygments_lexer": "ipython3",
   "version": "3.7.10"
  },
  "orig_nbformat": 4,
  "kernelspec": {
   "name": "python3",
   "display_name": "Python 3.7.10 64-bit ('testAI': conda)"
  },
  "interpreter": {
   "hash": "9ce71fe3bbff52c7a97bb5a93c2ac06072f638d03978324f570ac381257288bb"
  }
 },
 "nbformat": 4,
 "nbformat_minor": 2,
 "cells": [
  {
   "cell_type": "code",
   "execution_count": null,
   "source": [
    "import math\r\n",
    "from PIL import Image, ImageDraw\r\n",
    "  \r\n",
    "w, h = 220, 190\r\n",
    "shape = [(40, 40), (w - 10, h - 10)]\r\n",
    "  \r\n",
    "# creating new Image object\r\n",
    "img = Image.new(\"RGB\", (w, h))\r\n",
    "  \r\n",
    "# create rectangle image\r\n",
    "img1 = ImageDraw.Draw(img)  \r\n",
    "img1.rectangle(shape, fill =\"#ffff33\", outline =\"red\")\r\n",
    "img.show()"
   ],
   "outputs": [],
   "metadata": {}
  },
  {
   "cell_type": "code",
   "execution_count": null,
   "source": [
    "import math\r\n",
    "from PIL import Image, ImageDraw\r\n",
    "\r\n",
    "img = Image.open('./cats.jpg')\r\n",
    "# img = img.resize((736, 384))\r\n",
    "\r\n",
    "width = img.width\r\n",
    "heigh = img.height\r\n",
    "start = (0.28763292, 0.09838788)\r\n",
    "size = (0.25449764, 0.339828)\r\n",
    "true_shape = [\r\n",
    "        (start[0] * width, start[1] * heigh), \r\n",
    "        (start[0] * width + size[0] * width, start[1] * heigh + size[1] * heigh)\r\n",
    "    ]\r\n",
    "\r\n",
    "draw_img = ImageDraw.Draw(img)\r\n",
    "draw_img.rectangle(true_shape, outline='yellow')\r\n",
    "\r\n",
    "img.show()"
   ],
   "outputs": [],
   "metadata": {}
  },
  {
   "cell_type": "code",
   "execution_count": 4,
   "source": [
    "import cv2\n",
    "cap = cv2.VideoCapture(0)\n",
    "while True:\n",
    "    ref, frame = cap.read()\n",
    "    cv2.imshow('windows', frame)\n",
    "    if cv2.waitKey(1) & 0xFF == ord('q'):\n",
    "        break\n",
    "cap.release()\n",
    "cv2.destroyAllWindows()"
   ],
   "outputs": [],
   "metadata": {
    "tags": []
   }
  },
  {
   "cell_type": "code",
   "execution_count": null,
   "source": [],
   "outputs": [],
   "metadata": {}
  }
 ]
}